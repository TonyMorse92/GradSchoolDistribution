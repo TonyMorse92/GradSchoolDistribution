{
 "cells": [
  {
   "cell_type": "code",
   "execution_count": 1,
   "id": "a17e410e",
   "metadata": {},
   "outputs": [],
   "source": [
    "import requests\n",
    "from bs4 import BeautifulSoup\n",
    "\n",
    "ssl_verify_path = 'ch.pem'\n",
    "url = 'https://genealogy.math.ndsu.nodak.edu/id.php?id=13141'\n",
    "page = requests.get(url,verify=ssl_verify_path)\n",
    "\n",
    "\n",
    "soup = BeautifulSoup(page.content,'html.parser')"
   ]
  },
  {
   "cell_type": "code",
   "execution_count": 2,
   "id": "1dea93f4",
   "metadata": {},
   "outputs": [
    {
     "name": "stdout",
     "output_type": "stream",
     "text": [
      "<h2 style=\"text-align: center; margin-bottom: 0.5ex; margin-top: 1ex\">\n",
      " Peter Mann Winkler\n",
      "</h2>\n",
      "\n"
     ]
    }
   ],
   "source": [
    "results = soup.find('h2')\n",
    "print(results.prettify())"
   ]
  },
  {
   "cell_type": "markdown",
   "id": "f65cf8a9",
   "metadata": {},
   "source": [
    "# Inspection of page\n",
    "* It looks like the only time the h2 tag will appear on the page is for the name\n",
    "* Afterwards, all of the things I am looking for are pretty much right there\n",
    "\n",
    "## Items I want to pull\n",
    "1. Name  \n",
    "    * between the open and close of only h2 tag\n",
    "    * May not just be a first and last name. Figure out how to parse that later\n",
    "2. MathSciNet link\n",
    "    * An href in the p style right after the h2 tag\n",
    "3. College name\n",
    "    * In the second span style next\n",
    "4. Year of degree\n",
    "    * before the end of the next span style\n",
    "5. Dissertation name\n",
    "    * the next div style. id is thesisTitle\n",
    "6. Math Classification pt 1\n",
    "    * The number that ndsu uses\n",
    "    * Not all pages have this\n",
    "    * Next div after dissertation\n",
    "7. Math Classification pt 2\n",
    "    * The name of the subfield\n",
    "    * Again, not all pages have this\n",
    "    * Part of the same div as math class pt 1\n",
    "   "
   ]
  },
  {
   "cell_type": "code",
   "execution_count": 3,
   "id": "ca4fac6e",
   "metadata": {},
   "outputs": [
    {
     "name": "stdout",
     "output_type": "stream",
     "text": [
      "<h2 style=\"text-align: center; margin-bottom: 0.5ex; margin-top: 1ex\">\n",
      " Peter Mann Winkler\n",
      "</h2>\n",
      "\n",
      "Peter Mann Winkler\n"
     ]
    }
   ],
   "source": [
    "results = soup.find('h2')\n",
    "print(results.prettify())\n",
    "print(results.text.strip())"
   ]
  },
  {
   "cell_type": "code",
   "execution_count": 4,
   "id": "38753802",
   "metadata": {},
   "outputs": [
    {
     "name": "stdout",
     "output_type": "stream",
     "text": [
      "<p style=\"text-align: center; margin-top: 0; margin-bottom: 0px; font-size: small\">\n",
      " <a href=\"http://www.ams.org/mathscinet/MRAuthorID/183565\">\n",
      "  MathSciNet\n",
      " </a>\n",
      "</p>\n",
      "\n",
      "MathSciNet\n"
     ]
    }
   ],
   "source": [
    "name = soup.h2\n",
    "mathsci = name.find_next('p')\n",
    "print(mathsci.prettify())\n",
    "print(mathsci.text.strip())"
   ]
  },
  {
   "cell_type": "code",
   "execution_count": 5,
   "id": "04f9be95",
   "metadata": {},
   "outputs": [
    {
     "name": "stdout",
     "output_type": "stream",
     "text": [
      "<span style=\"color:\n",
      "  #006633; margin-left: 0.5em\">\n",
      " Yale University\n",
      "</span>\n",
      "\n",
      "Yale University\n"
     ]
    }
   ],
   "source": [
    "college = name.find_next('span').find_next('span')\n",
    "print(college.prettify())\n",
    "print(college.text.strip())"
   ]
  },
  {
   "cell_type": "markdown",
   "id": "19235297",
   "metadata": {},
   "source": [
    "OK, so I think I have the gist down. Just need to put it together"
   ]
  },
  {
   "cell_type": "code",
   "execution_count": 6,
   "id": "61734cdb",
   "metadata": {},
   "outputs": [],
   "source": [
    "# Get all of the fields I want, and print so it is neat\n",
    "name = soup.find('h2')\n",
    "name_string = name.text.strip()\n",
    "\n",
    "mathsci = name.find_next('p')\n",
    "mathsci_link = name.find_next('a')\n",
    "mathsci_string = mathsci_link['href']\n",
    "\n",
    "# The spans are nested, so pull the full string which gives [phd, university, year]\n",
    "# Split list into two to combine everything but year, then get year as last element\n",
    "degree_year = mathsci.find_next('span')\n",
    "degree_year_string = degree_year.text.strip().rsplit(None,1)[1] # probably want as date for db\n",
    "\n",
    "college = degree_year.find_next('span')\n",
    "college_string = college.text.strip()\n",
    "\n",
    "dissertation = college.find_next('div')\n",
    "dissertation_string = dissertation.text.strip().split('\\n')\n",
    "dissertation_string_final = dissertation_string[len(dissertation_string)-1]\n",
    "\n",
    "classification = dissertation.find_next('div')\n",
    "classification_string = classification.text.strip()\n",
    "classification_split_text = classification_string.split(':')[1]\n",
    "\n",
    "\n",
    "# It is combined on an em dash\n",
    "# Need to regex to remove\n",
    "import re\n",
    "classification_split_utf = re.sub(u'\\u2014','--',classification_split_text)\n",
    "\n",
    "classification_number = str(classification_split_utf.split('--')[0]).strip()\n",
    "classification_name_string = classification_split_utf.split('--')[1]"
   ]
  },
  {
   "cell_type": "markdown",
   "id": "5caf09ac",
   "metadata": {},
   "source": [
    "I think that should work for everyone"
   ]
  },
  {
   "cell_type": "markdown",
   "id": "7d14c33c",
   "metadata": {},
   "source": [
    "# Next Step\n",
    "OK, now I need to put them all together. Maybe in a dictionary? \n",
    "I guess not. I probably want to update the database as soon as I get the name. But, I could use dictionaries for testing"
   ]
  },
  {
   "cell_type": "code",
   "execution_count": 7,
   "id": "8d28a715",
   "metadata": {},
   "outputs": [
    {
     "name": "stdout",
     "output_type": "stream",
     "text": [
      "{'Name': 'Peter Mann Winkler', 'MathSci': 'http://www.ams.org/mathscinet/MRAuthorID/183565', 'Degree Year': '1975', 'University': 'Yale University', 'Dissertation Title': 'Assignment of Skolem Functions for Model-Complete Theories', 'Math Genre Number': '03', 'Math Subfield': 'Mathematical logic and foundations'}\n"
     ]
    }
   ],
   "source": [
    "academic = {\n",
    "    \"Name\": name_string,\n",
    "    \"MathSci\": mathsci_string,\n",
    "    \"Degree Year\": degree_year_string,\n",
    "    \"University\": college_string,\n",
    "    \"Dissertation Title\": dissertation_string_final,\n",
    "    \"Math Genre Number\": classification_number,\n",
    "    \"Math Subfield\": classification_name_string\n",
    "}\n",
    "print(academic)"
   ]
  },
  {
   "cell_type": "markdown",
   "id": "0d868041",
   "metadata": {},
   "source": [
    "\n",
    "\n",
    "# Try it is a table"
   ]
  },
  {
   "cell_type": "code",
   "execution_count": 8,
   "id": "74aa85cd",
   "metadata": {},
   "outputs": [
    {
     "name": "stdout",
     "output_type": "stream",
     "text": [
      "Name\t\tMathSci\t\tDegree\t\tCollege\t\tThesis\t\tSubfield\t\tSubNum\n"
     ]
    }
   ],
   "source": [
    "print(\"Name\\t\\tMathSci\\t\\tDegree\\t\\tCollege\\t\\tThesis\\t\\tSubfield\\t\\tSubNum\")"
   ]
  },
  {
   "cell_type": "code",
   "execution_count": 9,
   "id": "b23be98f",
   "metadata": {},
   "outputs": [
    {
     "name": "stdout",
     "output_type": "stream",
     "text": [
      "Peter Mann Winkler\n",
      "http://www.ams.org/mathscinet/MRAuthorID/183565\n",
      "1975\n",
      "Yale University\n",
      "Assignment of Skolem Functions for Model-Complete Theories\n",
      "03\n",
      "Mathematical logic and foundations\n"
     ]
    }
   ],
   "source": [
    "for x in academic:\n",
    "    print(academic[x])"
   ]
  },
  {
   "cell_type": "code",
   "execution_count": 10,
   "id": "6f777545",
   "metadata": {},
   "outputs": [],
   "source": [
    "test = [name_string, mathsci_string, degree_year_string, college_string, dissertation_string_final, classification_number,\n",
    "       classification_name_string]"
   ]
  },
  {
   "cell_type": "code",
   "execution_count": 11,
   "id": "1b4f7810",
   "metadata": {
    "scrolled": true
   },
   "outputs": [
    {
     "name": "stdout",
     "output_type": "stream",
     "text": [
      "['Peter Mann Winkler', 'http://www.ams.org/mathscinet/MRAuthorID/183565', '1975', 'Yale University', 'Assignment of Skolem Functions for Model-Complete Theories', '03', 'Mathematical logic and foundations']\n"
     ]
    }
   ],
   "source": [
    "print(test)"
   ]
  },
  {
   "cell_type": "code",
   "execution_count": null,
   "id": "71134575",
   "metadata": {},
   "outputs": [],
   "source": []
  }
 ],
 "metadata": {
  "kernelspec": {
   "display_name": "Python 3",
   "language": "python",
   "name": "python3"
  },
  "language_info": {
   "codemirror_mode": {
    "name": "ipython",
    "version": 3
   },
   "file_extension": ".py",
   "mimetype": "text/x-python",
   "name": "python",
   "nbconvert_exporter": "python",
   "pygments_lexer": "ipython3",
   "version": "3.6.9"
  }
 },
 "nbformat": 4,
 "nbformat_minor": 5
}
