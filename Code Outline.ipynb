{
 "cells": [
  {
   "cell_type": "markdown",
   "id": "ae9ae602",
   "metadata": {},
   "source": [
    "# Outline\n",
    "Now that I know how to do everything, it should be pretty smooth sailing.\n",
    "\n",
    "Initially, loop through all of the records, pausing a few minutes between every thousand so we don't inundate their servers (there are about 250K records).\n",
    "\n",
    "I know how to get all of the information out, so should be able to just add rows to the database as we go.\n",
    "\n",
    "Once all of the current records are in, I just need to have the program check once per week to see if the number of records has changed (the current number in their database is easily scrapeable from their homepage), and, if they have added any, just loop through from our database index number + 1 to the new number and add the new rows. "
   ]
  }
 ],
 "metadata": {
  "kernelspec": {
   "display_name": "Python 3",
   "language": "python",
   "name": "python3"
  },
  "language_info": {
   "codemirror_mode": {
    "name": "ipython",
    "version": 3
   },
   "file_extension": ".py",
   "mimetype": "text/x-python",
   "name": "python",
   "nbconvert_exporter": "python",
   "pygments_lexer": "ipython3",
   "version": "3.6.9"
  }
 },
 "nbformat": 4,
 "nbformat_minor": 5
}
