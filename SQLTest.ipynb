{
 "cells": [
  {
   "cell_type": "markdown",
   "id": "57c05318",
   "metadata": {},
   "source": [
    "# Making sure I can connect to MySQL and use basic commands"
   ]
  },
  {
   "cell_type": "code",
   "execution_count": 19,
   "id": "0b7b66fc",
   "metadata": {},
   "outputs": [
    {
     "name": "stdout",
     "output_type": "stream",
     "text": [
      "('information_schema',)\n",
      "('mysql',)\n",
      "('performance_schema',)\n",
      "('sys',)\n"
     ]
    }
   ],
   "source": [
    "import mysql.connector\n",
    "\n",
    "file = open('config.txt', 'r')\n",
    "lines = file.readlines()\n",
    "\n",
    "host = lines[0].strip()\n",
    "user = lines[1].strip()\n",
    "password = lines[2].strip()\n",
    "\n",
    "mydb = mysql.connector.connect(\n",
    "    host=host,\n",
    "    user=user,\n",
    "    password=password\n",
    ")\n",
    "\n",
    "mycursor = mydb.cursor()\n",
    "\n",
    "mycursor.execute(\"SHOW DATABASES\")\n",
    "\n",
    "for x in mycursor:\n",
    "    print(x)"
   ]
  },
  {
   "cell_type": "markdown",
   "id": "1c7fc32e",
   "metadata": {},
   "source": [
    "# --------------------------------\n",
    "This took me about 10 hours, and the issue was that python was reading in newline characters that I needed to strip. I uninstalled and reinstalled mysql twice, and I spend hours reading the documentation. I can't believe I just didn't check if the raw strings work. Oh well, know for next time."
   ]
  },
  {
   "cell_type": "code",
   "execution_count": null,
   "id": "7558b494",
   "metadata": {},
   "outputs": [],
   "source": []
  }
 ],
 "metadata": {
  "kernelspec": {
   "display_name": "Python 3",
   "language": "python",
   "name": "python3"
  },
  "language_info": {
   "codemirror_mode": {
    "name": "ipython",
    "version": 3
   },
   "file_extension": ".py",
   "mimetype": "text/x-python",
   "name": "python",
   "nbconvert_exporter": "python",
   "pygments_lexer": "ipython3",
   "version": "3.6.9"
  }
 },
 "nbformat": 4,
 "nbformat_minor": 5
}
